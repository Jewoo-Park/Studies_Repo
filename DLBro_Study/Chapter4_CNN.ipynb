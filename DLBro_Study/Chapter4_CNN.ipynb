{
  "nbformat": 4,
  "nbformat_minor": 0,
  "metadata": {
    "colab": {
      "provenance": [],
      "gpuType": "T4"
    },
    "kernelspec": {
      "name": "python3",
      "display_name": "Python 3"
    },
    "language_info": {
      "name": "python"
    },
    "accelerator": "GPU"
  },
  "cells": [
    {
      "cell_type": "markdown",
      "source": [
        "#5. CNN을 이용한 분류 : CIFAR 10"
      ],
      "metadata": {
        "id": "fj4FbL58Cb26"
      }
    },
    {
      "cell_type": "code",
      "execution_count": null,
      "metadata": {
        "id": "EtEK_twMAY1A"
      },
      "outputs": [],
      "source": [
        "import torch\n",
        "import torchvision\n",
        "import torchvision.transforms as transforms\n",
        "from torch.utils.data import DataLoader\n",
        "import torch.nn as nn\n",
        "import torch.nn.functional as F\n",
        "import torch.optim as optim\n",
        "import matplotlib.pyplot as plt"
      ]
    },
    {
      "cell_type": "markdown",
      "source": [
        "##5.1 CIFAR 10 데이터 불러오기"
      ],
      "metadata": {
        "id": "B0QOTFr6DHFL"
      }
    },
    {
      "cell_type": "code",
      "source": [
        "from google.colab import drive\n",
        "drive.mount('/content/drive')"
      ],
      "metadata": {
        "colab": {
          "base_uri": "https://localhost:8080/"
        },
        "id": "9j30-G1_C3KT",
        "outputId": "22c1eae4-238f-402d-9c21-90cd3d60df0b"
      },
      "execution_count": null,
      "outputs": [
        {
          "output_type": "stream",
          "name": "stdout",
          "text": [
            "Mounted at /content/drive\n"
          ]
        }
      ]
    },
    {
      "cell_type": "code",
      "source": [
        "#CIFAR 데이터셋 로드 및 전처리\n",
        "\n",
        "#텐서로 변환 및 Normalize\n",
        "#채널이 3개이기때문에 각 채널의 평균과 표준편차로 Normalize\n",
        "transform = transforms.Compose([transforms.ToTensor(),\n",
        "                                transforms.Normalize((0.5, 0.5, 0.5), (0.5, 0.5, 0.5))])\n",
        "\n",
        "trainset = torchvision.datasets.CIFAR10(root='./data', train=True, download=True, transform=transform)\n",
        "trainloader = torch.utils.data.DataLoader(trainset, batch_size=4, shuffle=True, num_workers=2) #배치 형태로 변환\n",
        "testset = torchvision.datasets.CIFAR10(root='./data', train=False, download=True, transform=transform)\n",
        "testloader = torch.utils.data.DataLoader(testset, batch_size=4, shuffle=False, num_workers=2)"
      ],
      "metadata": {
        "colab": {
          "base_uri": "https://localhost:8080/"
        },
        "id": "pb4oy4HODSbQ",
        "outputId": "7cfff49d-0e40-4499-9367-c5760e638d29"
      },
      "execution_count": null,
      "outputs": [
        {
          "output_type": "stream",
          "name": "stderr",
          "text": [
            "100%|██████████| 170M/170M [00:03<00:00, 43.1MB/s]\n"
          ]
        }
      ]
    },
    {
      "cell_type": "code",
      "source": [
        "#Device 설정\n",
        "device = torch.device(\"cuda:0\" if torch.cuda.is_available() else \"cpu\")\n",
        "print(device)"
      ],
      "metadata": {
        "colab": {
          "base_uri": "https://localhost:8080/"
        },
        "id": "YLphg7J2Dq0Q",
        "outputId": "9296e660-f4d2-471c-f1e5-a8e7cbd4c5ea"
      },
      "execution_count": null,
      "outputs": [
        {
          "output_type": "stream",
          "name": "stdout",
          "text": [
            "cuda:0\n"
          ]
        }
      ]
    },
    {
      "cell_type": "markdown",
      "source": [
        "##5.2 CNN 모델 구축"
      ],
      "metadata": {
        "id": "fYVaQ5Y-E8UM"
      }
    },
    {
      "cell_type": "code",
      "source": [
        "class Net(nn.Module):\n",
        "  def __init__ (self):\n",
        "    super(Net, self).__init__()\n",
        "    self.conv1 = nn.Conv2d(3, 6, 5) #합성곱 연산 (입력 채널 수 3, 출력 채널 수 6, 필터크기 5*5, stride = 1(디폴트))\n",
        "    self.pool1 = nn.MaxPool2d(2, 2)\n",
        "    self.conv2 = nn.Conv2d(6, 16, 5)\n",
        "    self.pool2 = nn.MaxPool2d(2, 2)\n",
        "    self.fc1 = nn.Linear(16 * 5 * 5, 120) #16*5*5로 펼치기, 이후 120개짜리 히든 레이어로 만들기\n",
        "    self.fc2 = nn.Linear(120, 84)\n",
        "    self.fc3 = nn.Linear(84, 10) #최종적으로 10개로 출력\n",
        "\n",
        "  def forward(self, x):\n",
        "    x = self.pool1(F.relu(self.conv1(x))) #합성곱 연산, conv1 -> ReLU -> poll\n",
        "    x = self.pool2(F.relu(self.conv2(x)))\n",
        "    x = x.view(-1, 16*5*5) #일렬로 펼치기\n",
        "    x = F.relu(self.fc1(x))\n",
        "    x = F.relu(self.fc2(x))\n",
        "    x = self.fc3(x) #마지막에는 굳이 활성화함수 필요 없음\n",
        "    return x\n",
        "\n",
        "\n",
        "net = Net().to(device) #모델 선언"
      ],
      "metadata": {
        "id": "0daVRPDAEwES"
      },
      "execution_count": null,
      "outputs": []
    },
    {
      "cell_type": "code",
      "source": [
        "####또 다른 표현####\n",
        "class Net(nn.Module):\n",
        "  def __init__ (self):\n",
        "    super(Net, self).__init__()\n",
        "\n",
        "    self.feature_extraction = nn.Sequential(\n",
        "        nn.Conv2d(3, 6, 5),\n",
        "        nn.ReLU(),\n",
        "        nn.MaxPool2d(2, 2),\n",
        "        nn.Conv2d(6, 16, 5),\n",
        "        nn.ReLU(),\n",
        "        nn.MaxPool2d(2, 2)\n",
        "    )\n",
        "\n",
        "    self.classifier = nn.Sequential(\n",
        "        nn.Linear(16 * 5 * 5, 120),\n",
        "        nn.ReLU(),\n",
        "        nn.Linear(120, 84),\n",
        "        nn.ReLU(),\n",
        "        nn.Linear(84, 10))\n",
        "\n",
        "  def forward(self, x):\n",
        "    x = self.feature_extraction(x)\n",
        "    x = x.view(-1, 16*5*5)\n",
        "    x = self.classifier(x)\n",
        "    return x\n",
        "\n",
        "net = Net().to(device)"
      ],
      "metadata": {
        "id": "cT7jOVwQKCo1"
      },
      "execution_count": null,
      "outputs": []
    },
    {
      "cell_type": "code",
      "source": [
        "print(net)"
      ],
      "metadata": {
        "colab": {
          "base_uri": "https://localhost:8080/"
        },
        "id": "HfB_ERlVG-5l",
        "outputId": "debe5048-6d27-4053-8118-ce96088c0d49"
      },
      "execution_count": null,
      "outputs": [
        {
          "output_type": "stream",
          "name": "stdout",
          "text": [
            "Net(\n",
            "  (conv1): Conv2d(3, 6, kernel_size=(5, 5), stride=(1, 1))\n",
            "  (pool1): MaxPool2d(kernel_size=2, stride=2, padding=0, dilation=1, ceil_mode=False)\n",
            "  (conv2): Conv2d(6, 16, kernel_size=(5, 5), stride=(1, 1))\n",
            "  (pool2): MaxPool2d(kernel_size=2, stride=2, padding=0, dilation=1, ceil_mode=False)\n",
            "  (fc1): Linear(in_features=400, out_features=120, bias=True)\n",
            "  (fc2): Linear(in_features=120, out_features=84, bias=True)\n",
            "  (fc3): Linear(in_features=84, out_features=10, bias=True)\n",
            ")\n"
          ]
        }
      ]
    },
    {
      "cell_type": "markdown",
      "source": [
        "##5.3 모델 학습"
      ],
      "metadata": {
        "id": "HxFxdbyUHGDj"
      }
    },
    {
      "cell_type": "code",
      "source": [
        "criterion = nn.CrossEntropyLoss()\n",
        "optimizer = Adam(net.parameters(), lr=0.001)"
      ],
      "metadata": {
        "id": "aTFgXRBpHCB9"
      },
      "execution_count": null,
      "outputs": []
    },
    {
      "cell_type": "code",
      "source": [
        "loss_ = []\n",
        "n = len(trainloader)\n",
        "\n",
        "for epoch in range(10): #10번 반복\n",
        "  running_loss = 0.0\n",
        "  for i, data in enumerate(trainloader, 0):\n",
        "    inputs, labels = data #GPU 연산에 적합한 형태로 변환\n",
        "    inputs = inputs.to(device)\n",
        "    labels = labels.to(device)\n",
        "\n",
        "    optimizer.zero_grad() #매 반복마다 기울기 초기화\n",
        "\n",
        "    outputs = net(inputs) #예측값 산출, 노드 10개짜리\n",
        "    loss = criterion(outputs, labels) #손실함수 계산, label은 1~10의 숫자, output은 노드가 10개인 벡터\n",
        "    loss.backward() #역전파\n",
        "    optimizer.step() #가중치 업데이트\n",
        "\n",
        "    running_loss += loss.item()\n",
        "\n",
        "  loss_.append(running_loss/n) #배치마다 로스가 계산되기 때문.\n",
        "  print('[%d] loss: %.3f' % (epoch + 1, running_loss/n))\n",
        "\n",
        "print('finished training')"
      ],
      "metadata": {
        "colab": {
          "base_uri": "https://localhost:8080/"
        },
        "id": "eZ3vuQMvHOU1",
        "outputId": "368a41e5-51bf-458d-c1c4-2ae7a85e6075"
      },
      "execution_count": null,
      "outputs": [
        {
          "output_type": "stream",
          "name": "stdout",
          "text": [
            "[1] loss: 1.747\n",
            "[2] loss: 1.356\n",
            "[3] loss: 1.216\n",
            "[4] loss: 1.133\n",
            "[5] loss: 1.065\n",
            "[6] loss: 1.010\n",
            "[7] loss: 0.962\n",
            "[8] loss: 0.923\n",
            "[9] loss: 0.889\n",
            "[10] loss: 0.858\n",
            "finished training\n"
          ]
        }
      ]
    },
    {
      "cell_type": "code",
      "source": [
        "#손실함수 시각화\n",
        "plt.plot(loss_)\n",
        "plt.title('Training Loss')\n",
        "plt.xlabel('Epoch')\n",
        "plt.ylabel('Loss')\n",
        "plt.show()"
      ],
      "metadata": {
        "colab": {
          "base_uri": "https://localhost:8080/",
          "height": 472
        },
        "id": "orU8O7E6HgYA",
        "outputId": "d03af1da-1cc7-4d50-f3b5-e9936190e464"
      },
      "execution_count": null,
      "outputs": [
        {
          "output_type": "display_data",
          "data": {
            "text/plain": [
              "<Figure size 640x480 with 1 Axes>"
            ],
            "image/png": "[encoded data removed]"
          },
          "metadata": {}
        }
      ]
    },
    {
      "cell_type": "code",
      "source": [
        "#모델 저장하기\n",
        "path = './cifar_net.pth' #모델 저장 경로\n",
        "torch.save(net.state_dict(), path)"
      ],
      "metadata": {
        "id": "duhIrqaDIn1v"
      },
      "execution_count": null,
      "outputs": []
    },
    {
      "cell_type": "code",
      "source": [
        "#모델 불러오기\n",
        "net = Net().to(device)\n",
        "net.load_state_dict(torch.load(path))"
      ],
      "metadata": {
        "colab": {
          "base_uri": "https://localhost:8080/"
        },
        "id": "NzSlJTDRI1yV",
        "outputId": "5c3e2c03-2b5b-4eae-b4e7-88c0260a8c81"
      },
      "execution_count": null,
      "outputs": [
        {
          "output_type": "execute_result",
          "data": {
            "text/plain": [
              "<All keys matched successfully>"
            ]
          },
          "metadata": {},
          "execution_count": 17
        }
      ]
    },
    {
      "cell_type": "code",
      "source": [
        "#모델 정확도 구현\n",
        "#output은 미니배치의 결과가 산출되기 때문에 for문을 통해서 test 전체의 예측값을 구함.\n",
        "\n",
        "correct = 0\n",
        "total = 0\n",
        "with torch.no_grad():\n",
        "  #net.eval() : Dropout 이나 BN등이 적용되었을 경우\n",
        "  for data in testloader:\n",
        "    images, labels = data[0].to(device), data[1].to(device)\n",
        "    outputs = net(images)\n",
        "    _, predicted = torch.max(outputs.data, 1) #벡터의 노드값중에서 가장 큰 값이 클래스가 됨\n",
        "    total += labels.size(0)\n",
        "    correct += (predicted == labels).sum().item() #맞으면 1, 틀리면 0으로\n",
        "\n",
        "print('Accuracy of the network on the 10000 test images: %d %%' % (100 * correct / total))"
      ],
      "metadata": {
        "colab": {
          "base_uri": "https://localhost:8080/"
        },
        "id": "oohgBMTiJBnG",
        "outputId": "827b5f90-a41b-405d-ab78-2f1e3750f1f3"
      },
      "execution_count": null,
      "outputs": [
        {
          "output_type": "stream",
          "name": "stdout",
          "text": [
            "Accuracy of the network on the 10000 test images: 10 %\n"
          ]
        }
      ]
    },
    {
      "cell_type": "code",
      "source": [],
      "metadata": {
        "id": "6oqLXYf8KxiB"
      },
      "execution_count": null,
      "outputs": []
    }
  ]
}